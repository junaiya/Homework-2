{
 "cells": [
  {
   "cell_type": "code",
   "execution_count": 2,
   "id": "07473fd2",
   "metadata": {},
   "outputs": [],
   "source": [
    "# Question 1 & 2\n",
    "\n",
    "# https://chatgpt.com/share/66e991c6-c898-8010-899c-0bdad9b9071d\n",
    "\n",
    "# I prefer the readability of the code given by the Chatbot. I find that the names given to the different elements are simpler. Also the explinations given by the Chatbot are written more like a narration of the events happening which is easier to understand as well."
   ]
  },
  {
   "cell_type": "code",
   "execution_count": 4,
   "id": "530a3c69",
   "metadata": {},
   "outputs": [
    {
     "name": "stdout",
     "output_type": "stream",
     "text": [
      "Win rate by switching: 0.6673\n"
     ]
    }
   ],
   "source": [
    "# Question 3\n",
    "\n",
    "import numpy as np\n",
    "\n",
    "# Set up variables\n",
    "doors = [1, 2, 3]  # The three possible doors\n",
    "wins = 0  # Counter for the number of times you win by switching\n",
    "reps = 100000  # Number of repetitions of the simulation\n",
    "\n",
    "# Run the simulation for a certain number of repetitions\n",
    "for i in range(reps):\n",
    "    winning_door = np.random.choice(doors)  # Randomly select the winning door\n",
    "    initial_choice = np.random.choice(doors)  # You make an initial random choice\n",
    "\n",
    "    # Monty opens a door that is neither the winning door nor your initial choice\n",
    "    remaining_doors = [door for door in doors if door != initial_choice and door != winning_door]\n",
    "    monty_opens = np.random.choice(remaining_doors)\n",
    "\n",
    "    # Switch to the other unopened door\n",
    "    switch_choice = [door for door in doors if door != initial_choice and door != monty_opens][0]\n",
    "\n",
    "    # Check if switching won\n",
    "    if switch_choice == winning_door:\n",
    "        wins += 1\n",
    "\n",
    "# Calculate and print the win rate for switching\n",
    "win_rate = wins / reps\n",
    "print(f\"Win rate by switching: {win_rate}\")"
   ]
  },
  {
   "cell_type": "code",
   "execution_count": 1,
   "id": "5cfd46e9",
   "metadata": {},
   "outputs": [],
   "source": [
    "# Question 4\n",
    "\n",
    "# https://chatgpt.com/share/66ea0aea-ee28-8010-a7dc-853ace1586c3"
   ]
  },
  {
   "cell_type": "code",
   "execution_count": 2,
   "id": "00fd8423",
   "metadata": {},
   "outputs": [],
   "source": [
    "# Question 5\n",
    "\n",
    "# 1 & 2 https://chatgpt.com/share/66ea0aea-ee28-8010-a7dc-853ace1586c3\n",
    "# 3 https://chatgpt.com/share/66ea1963-05ac-8010-b4fa-ad53ddcbc035"
   ]
  },
  {
   "cell_type": "code",
   "execution_count": 3,
   "id": "229ef54a",
   "metadata": {},
   "outputs": [],
   "source": [
    "# Question 6 \n",
    "\n",
    "# 1. The chatbot was fairly quick and helpful with answering the questions above. The chatbot gave me a breif answer to my question and then further explains the explanation by separating it out into steps that are clear.\n",
    "# 2. I did not find interacting with the chatbot to answer the questions fustrating. Like mentioned in the previous question, the answers were fairly clear to understand.\n",
    "# 3. The chatbots are helpful at understanding code. I would rate my experience as a 9/10."
   ]
  },
  {
   "cell_type": "code",
   "execution_count": 4,
   "id": "95eaf4b4",
   "metadata": {},
   "outputs": [],
   "source": [
    "# Question 7\n",
    "# My personal perception of AI-driven assistance tools in the context of learning coding, statistics, and data science has evolved since joining this course. Before this course I believed that using AI for assitance was cheating and unethical, but after interating with the chatbots for the assignments I have realized that AI assitance can be very useful in terms of efficiency when completing a task. "
   ]
  },
  {
   "cell_type": "code",
   "execution_count": 5,
   "id": "d0baebc1",
   "metadata": {},
   "outputs": [],
   "source": [
    "# Question 8\n",
    "# https://chatgpt.com/share/66ea2002-074c-8010-81dd-f62183b73756\n",
    "# 4. According to the chatbot I will not only need to complete the exams and attain a professional certification, I will need to gain knowledge in mathematics, statistics, finance, economics, data analysis and actuarial modeling. This can be done through my education here at UofT. In addition the chatbot suggests I work on my communication skills, problem solving skills, attention to detail, and my overall knowledge within the business world. All this can be done through experiences such as internships.\n",
    "# 5. To further this conversation I would ask more detailed and personalized questions to each of the responses given."
   ]
  },
  {
   "cell_type": "code",
   "execution_count": null,
   "id": "fbcf497d",
   "metadata": {},
   "outputs": [],
   "source": [
    "# Question 9 \n",
    "# Yes "
   ]
  }
 ],
 "metadata": {
  "kernelspec": {
   "display_name": "Python 3 (ipykernel)",
   "language": "python",
   "name": "python3"
  },
  "language_info": {
   "codemirror_mode": {
    "name": "ipython",
    "version": 3
   },
   "file_extension": ".py",
   "mimetype": "text/x-python",
   "name": "python",
   "nbconvert_exporter": "python",
   "pygments_lexer": "ipython3",
   "version": "3.11.6"
  }
 },
 "nbformat": 4,
 "nbformat_minor": 5
}
